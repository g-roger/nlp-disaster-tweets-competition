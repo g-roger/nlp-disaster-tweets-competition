{
 "cells": [
  {
   "cell_type": "code",
   "execution_count": null,
   "id": "eebe497f-7172-4de9-b363-837285a521cb",
   "metadata": {},
   "outputs": [],
   "source": [
    "import pandas as pd\n",
    "import nltk\n",
    "import spacy\n",
    "import seaborn as sns\n",
    "import numpy as np\n",
    "\n",
    "from tqdm import tqdm\n",
    "from matplotlib import pyplot as plt\n",
    "from wordcloud import WordCloud\n",
    "from sklearn.model_selection import train_test_split\n",
    "from sklearn.metrics import f1_score, accuracy_score, classification_report, confusion_matrix\n",
    "from sklearn.feature_extraction.text import CountVectorizer, TfidfVectorizer\n",
    "from sklearn.ensemble import GradientBoostingClassifier, RandomForestClassifier\n",
    "from sklearn.pipeline import Pipeline\n",
    "from sklearn.svm import LinearSVC\n",
    "from xgboost import XGBClassifier\n",
    "\n",
    "from sklearn.model_selection import GridSearchCV\n",
    "from transformers import BertTokenizer, BertForSequenceClassification\n"
   ]
  },
  {
   "cell_type": "code",
   "execution_count": null,
   "id": "e42df64e-3276-4b6f-bff7-1f528a3e0318",
   "metadata": {},
   "outputs": [],
   "source": [
    "pd.options.plotting.backend = \"matplotlib\""
   ]
  },
  {
   "cell_type": "code",
   "execution_count": null,
   "id": "f20aff3b-b08f-43fb-a04d-e37610f92554",
   "metadata": {},
   "outputs": [],
   "source": [
    "df_train = pd.read_csv('data/train.csv')\n",
    "df_test = pd.read_csv('data/test.csv')"
   ]
  },
  {
   "cell_type": "code",
   "execution_count": null,
   "id": "dce64427-5ba3-4c3a-bbc3-be497ea978f3",
   "metadata": {},
   "outputs": [],
   "source": [
    "df_train.tail(20)"
   ]
  },
  {
   "cell_type": "code",
   "execution_count": null,
   "id": "f9f0de42-031a-4658-8e72-e7fcf8bf038a",
   "metadata": {},
   "outputs": [],
   "source": [
    "df_train.info()"
   ]
  },
  {
   "cell_type": "code",
   "execution_count": null,
   "id": "38cd1b96-4da5-4d20-8927-ee3d82793718",
   "metadata": {},
   "outputs": [],
   "source": [
    "df_train.dropna(inplace=True)"
   ]
  },
  {
   "cell_type": "code",
   "execution_count": null,
   "id": "19715640-c538-42ab-8c8b-3f6a4776ce9d",
   "metadata": {},
   "outputs": [],
   "source": [
    "df_train.describe()"
   ]
  },
  {
   "cell_type": "code",
   "execution_count": null,
   "id": "b10b87c8-fcc1-49b9-8cfd-492d538fa66c",
   "metadata": {},
   "outputs": [],
   "source": [
    "df_train.target.value_counts().plot(kind='bar')"
   ]
  },
  {
   "cell_type": "code",
   "execution_count": null,
   "id": "0726efa1-ca74-4957-8f06-02919f330d12",
   "metadata": {},
   "outputs": [],
   "source": [
    "nltk.download('stopwords')"
   ]
  },
  {
   "cell_type": "code",
   "execution_count": null,
   "id": "bc268b84-27d1-4571-9006-00043826c626",
   "metadata": {},
   "outputs": [],
   "source": [
    "snlp = spacy.load('en_core_web_sm')"
   ]
  },
  {
   "cell_type": "code",
   "execution_count": null,
   "id": "7554f539-d0e2-41c8-bedd-0d8fe5d128fb",
   "metadata": {},
   "outputs": [],
   "source": [
    "def lemmatizer(text):\n",
    "    result = [word.lemma_ for word in snlp(text)]\n",
    "    return \" \".join(result)"
   ]
  },
  {
   "cell_type": "code",
   "execution_count": null,
   "id": "2cae076e-81a2-47dc-8c48-dd1d9fe1fe0e",
   "metadata": {},
   "outputs": [],
   "source": [
    "def lemmatizer_verbs(text):\n",
    "    sent = []\n",
    "    doc = nlp(text)\n",
    "    for word in doc:\n",
    "        if word.pos_ == \"VERB\":\n",
    "            sent.append(word.lemma_)\n",
    "        else:\n",
    "            sent.append(word.text)\n",
    "    return \" \".join(sent)"
   ]
  },
  {
   "cell_type": "code",
   "execution_count": null,
   "id": "4c7e2ba8-9b95-44f4-bf32-db7b0fb98276",
   "metadata": {},
   "outputs": [],
   "source": [
    "def preprocess(df):\n",
    "    df['text_lemma'] = df.text.apply(lemmatizer)\n",
    "    df['text_lemma_verbs'] = df.text.apply(lemmatizer)\n",
    "    return df"
   ]
  },
  {
   "cell_type": "code",
   "execution_count": null,
   "id": "d228b87f-8b7b-4447-ab81-ed7c0be8aac9",
   "metadata": {},
   "outputs": [],
   "source": [
    "stopwords = list(set(snlp.Defaults.stop_words).union(set(nltk.corpus.stopwords.words('english'))))"
   ]
  },
  {
   "cell_type": "code",
   "execution_count": null,
   "id": "303c3c5e-4d6c-481c-9c0e-82c5f7a65b70",
   "metadata": {},
   "outputs": [],
   "source": [
    "df_train = preprocess(df_train)"
   ]
  },
  {
   "cell_type": "code",
   "execution_count": null,
   "id": "554f788e-e2fd-43c9-b9c9-ebaa67ba4d31",
   "metadata": {},
   "outputs": [],
   "source": [
    "negative_cases = \"\".join(df_train[df_train['target'] == 0]['text_lemma_verbs'].values)\n",
    "positive_cases = \"\".join(df_train[df_train['target'] == 1]['text_lemma_verbs'].values)\n",
    "\n",
    "fig, axs = plt.subplots(1, 2, figsize=(15, 10))\n",
    "\n",
    "wc1 = WordCloud(background_color='white').generate(negative_cases)\n",
    "wc2 = WordCloud(background_color='white').generate(positive_cases)\n",
    "\n",
    "axs[0].imshow(wc1, interpolation='bilinear')\n",
    "axs[0].set_title('Negative')\n",
    "axs[1].imshow(wc2, interpolation='bilinear')\n",
    "axs[1].set_title('Positive')\n",
    "\n",
    "plt.show()"
   ]
  },
  {
   "cell_type": "code",
   "execution_count": null,
   "id": "961b9410-fc88-4c7c-bd87-9a062705d682",
   "metadata": {},
   "outputs": [],
   "source": [
    "X = df_train.text_lemma_verbs\n",
    "y = df_train['target'].values"
   ]
  },
  {
   "cell_type": "code",
   "execution_count": null,
   "id": "b8a6d9a2-4f75-46ae-99d6-af65337c18c0",
   "metadata": {},
   "outputs": [],
   "source": [
    "X_train, X_test, y_train, y_test = train_test_split(X, y, test_size=0.3, random_state=42)\n",
    "X_train.shape, X_test.shape, y_train.shape, y_test.shape"
   ]
  },
  {
   "cell_type": "markdown",
   "id": "eca8729e-37eb-4b56-baa0-fc1eaf71ffc7",
   "metadata": {},
   "source": [
    "# Count Vectorizer & Random Forest"
   ]
  },
  {
   "cell_type": "code",
   "execution_count": null,
   "id": "0ca10580-baf3-4eec-9772-6861e99a1c26",
   "metadata": {},
   "outputs": [],
   "source": [
    "rf_pipeline = Pipeline([\n",
    "    ('CountVectorizer', CountVectorizer(stop_words=stopwords)),\n",
    "    ('rf', RandomForestClassifier(random_state=42))\n",
    "])"
   ]
  },
  {
   "cell_type": "code",
   "execution_count": null,
   "id": "b858402b-0e08-40e8-8855-f63280ca1f38",
   "metadata": {},
   "outputs": [],
   "source": [
    "rf_pipeline.fit(X_train, y_train) "
   ]
  },
  {
   "cell_type": "code",
   "execution_count": null,
   "id": "68711a53-1e1b-4644-85fe-34ae824a6d40",
   "metadata": {},
   "outputs": [],
   "source": [
    "y_pred = rf_pipeline.predict(X_test)"
   ]
  },
  {
   "cell_type": "code",
   "execution_count": null,
   "id": "0f3c5ff8-256c-4398-bfce-27ed30d99fe5",
   "metadata": {},
   "outputs": [],
   "source": [
    "print(classification_report(y_test, y_pred))"
   ]
  },
  {
   "cell_type": "code",
   "execution_count": null,
   "id": "726c4597-48e2-4326-941e-f19179b8e27a",
   "metadata": {},
   "outputs": [],
   "source": [
    "print(accuracy_score(y_test, y_pred))"
   ]
  },
  {
   "cell_type": "code",
   "execution_count": null,
   "id": "35bb7a05-eea8-47b1-9e3c-1defa366dd00",
   "metadata": {},
   "outputs": [],
   "source": [
    "cnf_matrix = confusion_matrix(y_test, y_pred)\n",
    "cmap = sns.color_palette(\"Blues\", as_cmap=True)\n",
    "sns.heatmap(cnf_matrix, annot=True, fmt='g', cmap=cmap, \n",
    "            xticklabels=['Negativo', 'Positivo'], \n",
    "            yticklabels=['Negativo', 'Positivo'])\n",
    "\n",
    "plt.title('Matriz de Confusão')\n",
    "plt.xlabel('Valor Previsto')\n",
    "plt.ylabel('Valor Real')\n",
    "plt.show()"
   ]
  },
  {
   "cell_type": "markdown",
   "id": "1c8bf905-5a42-4e47-bf54-53aef1302075",
   "metadata": {},
   "source": [
    "# TFIDF & RF"
   ]
  },
  {
   "cell_type": "code",
   "execution_count": null,
   "id": "edd22c0e-b9a7-4025-95fe-352f395c55ac",
   "metadata": {},
   "outputs": [],
   "source": [
    "rf_pipeline2 = Pipeline([\n",
    "    ('TFIDF', TfidfVectorizer(stop_words=stopwords)),\n",
    "    ('rf', RandomForestClassifier(random_state=42))\n",
    "])\n",
    "\n",
    "rf_pipeline2.fit(X_train, y_train) \n",
    "y_pred2 = rf_pipeline2.predict(X_test)\n",
    "\n",
    "print(classification_report(y_test, y_pred2))\n",
    "print(accuracy_score(y_test, y_pred2))\n",
    "\n",
    "cnf_matrix = confusion_matrix(y_test, y_pred2)\n",
    "cmap = sns.color_palette(\"Blues\", as_cmap=True)\n",
    "sns.heatmap(cnf_matrix, annot=True, fmt='g', cmap=cmap, \n",
    "            xticklabels=['Negativo', 'Positivo'], \n",
    "            yticklabels=['Negativo', 'Positivo'])\n",
    "\n",
    "plt.title('Matriz de Confusão')\n",
    "plt.xlabel('Valor Previsto')\n",
    "plt.ylabel('Valor Real')\n",
    "plt.show()"
   ]
  },
  {
   "cell_type": "markdown",
   "id": "4550ba32-4c68-4f9e-8ea2-bd84eb9c6184",
   "metadata": {},
   "source": [
    "# SVC & TFIDF"
   ]
  },
  {
   "cell_type": "code",
   "execution_count": null,
   "id": "a14121ba-b8c0-465f-b72b-250e7a17c0b1",
   "metadata": {},
   "outputs": [],
   "source": [
    "svc = Pipeline([\n",
    "    ('TFIDF', TfidfVectorizer(stop_words=stopwords)),\n",
    "    ('rf', LinearSVC(random_state=42))\n",
    "])\n",
    "\n",
    "svc.fit(X_train, y_train) \n",
    "y_pred3 = svc.predict(X_test)\n",
    "\n",
    "print(classification_report(y_test, y_pred3))\n",
    "print(accuracy_score(y_test, y_pred3))\n",
    "\n",
    "cnf_matrix = confusion_matrix(y_test, y_pred3)\n",
    "cmap = sns.color_palette(\"Blues\", as_cmap=True)\n",
    "sns.heatmap(cnf_matrix, annot=True, fmt='g', cmap=cmap, \n",
    "            xticklabels=['Negativo', 'Positivo'], \n",
    "            yticklabels=['Negativo', 'Positivo'])\n",
    "\n",
    "plt.title('Matriz de Confusão')\n",
    "plt.xlabel('Valor Previsto')\n",
    "plt.ylabel('Valor Real')\n",
    "plt.show()"
   ]
  },
  {
   "cell_type": "code",
   "execution_count": null,
   "id": "74957fc8-fdf1-4f44-bbab-1b0b920ba173",
   "metadata": {},
   "outputs": [],
   "source": []
  },
  {
   "cell_type": "markdown",
   "id": "3d7f26b4-948c-4f88-810a-cfa13d5df6ec",
   "metadata": {},
   "source": [
    "# XGB"
   ]
  },
  {
   "cell_type": "code",
   "execution_count": null,
   "id": "e208fb24-6aac-42e2-a793-909cdbcfb2be",
   "metadata": {},
   "outputs": [],
   "source": [
    "xgb = Pipeline([\n",
    "    ('TFIDF', CountVectorizer(stop_words=stopwords)),\n",
    "    ('xbg', XGBClassifier(random_state=42))\n",
    "])\n",
    "\n",
    "xgb.fit(X_train, y_train) \n",
    "y_pred4 = xgb.predict(X_test)\n",
    "\n",
    "print(classification_report(y_test, y_pred4))\n",
    "print(accuracy_score(y_test, y_pred4))\n",
    "\n",
    "cnf_matrix = confusion_matrix(y_test, y_pred4)\n",
    "cmap = sns.color_palette(\"Blues\", as_cmap=True)\n",
    "sns.heatmap(cnf_matrix, annot=True, fmt='g', cmap=cmap, \n",
    "            xticklabels=['Negativo', 'Positivo'], \n",
    "            yticklabels=['Negativo', 'Positivo'])\n",
    "\n",
    "plt.title('Matriz de Confusão')\n",
    "plt.xlabel('Valor Previsto')\n",
    "plt.ylabel('Valor Real')\n",
    "plt.show()"
   ]
  },
  {
   "cell_type": "code",
   "execution_count": null,
   "id": "bf39a51e-9379-4884-96c5-1f587c692945",
   "metadata": {},
   "outputs": [],
   "source": [
    "params_to_search = {\n",
    "    'TFIDF__max_features': [500, 1000, 2000],\n",
    "    'xbg__max_depth': [3, 5, 7],\n",
    "    'xbg__n_estimators': [100, 500, 1000]\n",
    "}\n",
    "\n",
    "grid = GridSearchCV(xgb, param_grid=params_to_search, cv=5)\n",
    "grid.fit(X_train, y_train)\n",
    "\n",
    "print(grid.best_params_)\n",
    "print(grid.best_score_)"
   ]
  },
  {
   "cell_type": "code",
   "execution_count": null,
   "id": "bf7b30f1-c2f9-491f-a28f-1b59c4b4d571",
   "metadata": {},
   "outputs": [],
   "source": []
  },
  {
   "cell_type": "markdown",
   "id": "f4178861-96bb-475c-b426-6548aacf4b6f",
   "metadata": {},
   "source": [
    "# BERT"
   ]
  },
  {
   "cell_type": "code",
   "execution_count": null,
   "id": "5b916a49-2b8a-401f-828a-c2d588b05309",
   "metadata": {},
   "outputs": [],
   "source": [
    "# Load pre-trained BERT tokenizer and model\n",
    "tokenizer = BertTokenizer.from_pretrained('bert-base-uncased')\n",
    "model = BertForSequenceClassification.from_pretrained('bert-base-uncased', num_labels=2)\n",
    "\n",
    "bert_svc = Pipeline([\n",
    "    ('tokenizer', tokenizer),\n",
    "    ('model', model)\n",
    "])\n",
    "\n",
    "bert_svc.fit(X_train, y_train)\n",
    "y_pred5 = bert_svc.predict(X_test)\n",
    "\n",
    "print(classification_report(y_test, y_pred5))\n",
    "print(accuracy_score(y_test, y_pred5))\n"
   ]
  },
  {
   "cell_type": "code",
   "execution_count": null,
   "id": "b10ed112-27b9-4784-946d-64f234868036",
   "metadata": {},
   "outputs": [],
   "source": []
  },
  {
   "cell_type": "code",
   "execution_count": null,
   "id": "bf9f3b8b-c795-4d35-aaf7-22949bd589c7",
   "metadata": {},
   "outputs": [],
   "source": []
  },
  {
   "cell_type": "markdown",
   "id": "26c8b40a-abe9-4390-ad3f-52394bc9d028",
   "metadata": {},
   "source": [
    "# Submit dataset"
   ]
  },
  {
   "cell_type": "code",
   "execution_count": null,
   "id": "d08dd3e9-6b77-40c5-9912-233916f33489",
   "metadata": {},
   "outputs": [],
   "source": [
    "df_new = pd.DataFrame()\n",
    "df_new['id'] = df_test['id']\n",
    "vectors_test = vec_model.transform(df_test['text'])\n",
    "df_new['target'] = random_forest.predict(vectors_test)"
   ]
  },
  {
   "cell_type": "code",
   "execution_count": null,
   "id": "136f4b27-6676-45cc-abc9-cfcc7943238c",
   "metadata": {},
   "outputs": [],
   "source": [
    "df_new"
   ]
  },
  {
   "cell_type": "code",
   "execution_count": null,
   "id": "20ff7d21-7c0b-411b-906a-2b30289d517e",
   "metadata": {},
   "outputs": [],
   "source": [
    "df_new.target.value_counts().plot(kind='bar')"
   ]
  },
  {
   "cell_type": "code",
   "execution_count": null,
   "id": "ac276473-dae6-4722-87e3-13d770177c90",
   "metadata": {},
   "outputs": [],
   "source": [
    "df_new.shape"
   ]
  },
  {
   "cell_type": "code",
   "execution_count": null,
   "id": "a498461b-06a8-4986-9200-45c87f480b07",
   "metadata": {},
   "outputs": [],
   "source": [
    "df_test2 = df_test.merge(df_new)"
   ]
  },
  {
   "cell_type": "code",
   "execution_count": null,
   "id": "8e207477-d054-4e79-b1de-728deecfcb47",
   "metadata": {},
   "outputs": [],
   "source": [
    "df_test2.head()"
   ]
  },
  {
   "cell_type": "code",
   "execution_count": null,
   "id": "d0e6eda1-9729-43d0-a606-470c5e4dc03b",
   "metadata": {},
   "outputs": [],
   "source": [
    "negative_cases = \"\".join(df_test2[df_test2['target'] == 0]['text'].values)\n",
    "positive_cases = \"\".join(df_test2[df_test2['target'] == 1]['text'].values)\n",
    "\n",
    "fig, axs = plt.subplots(1, 2, figsize=(15, 10))\n",
    "\n",
    "wc1 = WordCloud(background_color='white').generate(negative_cases)\n",
    "wc2 = WordCloud(background_color='white').generate(positive_cases)\n",
    "\n",
    "axs[0].imshow(wc1, interpolation='bilinear')\n",
    "axs[0].set_title('Negative')\n",
    "axs[1].imshow(wc2, interpolation='bilinear')\n",
    "axs[1].set_title('Positive')\n",
    "\n",
    "plt.show()"
   ]
  },
  {
   "cell_type": "code",
   "execution_count": null,
   "id": "bb248597-bfc6-42d4-a197-7d0f705d2a90",
   "metadata": {},
   "outputs": [],
   "source": [
    "df_new.to_csv('submission.csv', index=False)"
   ]
  },
  {
   "cell_type": "code",
   "execution_count": null,
   "id": "402a5898-138b-4d00-af6b-abf75f599de1",
   "metadata": {},
   "outputs": [],
   "source": []
  }
 ],
 "metadata": {
  "kernelspec": {
   "display_name": "Python 3 (ipykernel)",
   "language": "python",
   "name": "python3"
  },
  "language_info": {
   "codemirror_mode": {
    "name": "ipython",
    "version": 3
   },
   "file_extension": ".py",
   "mimetype": "text/x-python",
   "name": "python",
   "nbconvert_exporter": "python",
   "pygments_lexer": "ipython3",
   "version": "3.9.13"
  }
 },
 "nbformat": 4,
 "nbformat_minor": 5
}
